{
 "cells": [
  {
   "cell_type": "code",
   "execution_count": 23,
   "metadata": {},
   "outputs": [],
   "source": [
    "import numpy as np\n",
    "from collections import defaultdict"
   ]
  },
  {
   "cell_type": "code",
   "execution_count": 47,
   "metadata": {},
   "outputs": [
    {
     "name": "stderr",
     "output_type": "stream",
     "text": [
      "100%|██████████| 11/11 [00:00<00:00, 41828.96it/s]               \n",
      "100%|██████████| 11/11 [00:00<00:00, 127804.28it/s]\n",
      "100%|██████████| 11/11 [00:00<00:00, 180930.76it/s]\n",
      "100%|██████████| 11/11 [00:00<00:00, 276271.52it/s]\n",
      "100%|██████████| 2/2 [00:00<00:00, 64527.75it/s] 418.68it/s]    \n",
      "Finalizing Partition: 100%|██████████| 4/4 [00:00<00:00, 640.08it/s]"
     ]
    },
    {
     "name": "stdout",
     "output_type": "stream",
     "text": [
      "Resulting graph partition: [0 0 0 0 0 0 6 6 6 6 6]\n"
     ]
    },
    {
     "name": "stderr",
     "output_type": "stream",
     "text": [
      "\n"
     ]
    }
   ],
   "source": [
    "import numpy as np\n",
    "from collections import defaultdict\n",
    "from tqdm import tqdm\n",
    "\n",
    "def initialize_partition(graph):\n",
    "    return {node: node for node in graph}\n",
    "\n",
    "def calculate_modularity(graph, partition):\n",
    "    m = sum(len(neighbors) for neighbors in graph.values()) / 2\n",
    "    q = 0\n",
    "    for i in graph:\n",
    "        for j in graph[i]:\n",
    "            if partition[i] == partition[j]:\n",
    "                q += 1 - (len(graph[i]) * len(graph[j])) / (2 * m)\n",
    "    return q / (2 * m)\n",
    "\n",
    "def calculate_modularity_gain(node, community, graph, partition, m):\n",
    "    k_i = len(graph[node])\n",
    "    k_i_in = sum(1 for neighbor in graph[node] if partition[neighbor] == community)\n",
    "    sigma_tot = sum(len(graph[n]) for n in graph if partition[n] == community)\n",
    "    return (k_i_in - sigma_tot * k_i / (2 * m))\n",
    "\n",
    "def find_best_community(node, graph, partition, m):\n",
    "    current_community = partition[node]\n",
    "    best_community = current_community\n",
    "    best_gain = 0\n",
    "    for neighbor in graph[node]:\n",
    "        neighbor_community = partition[neighbor]\n",
    "        if neighbor_community != current_community:\n",
    "            gain = calculate_modularity_gain(node, neighbor_community, graph, partition, m)\n",
    "            if gain > best_gain:\n",
    "                best_gain = gain\n",
    "                best_community = neighbor_community\n",
    "    return best_community\n",
    "\n",
    "def assign_smallest_node_id(partition):\n",
    "    community_to_nodes = defaultdict(list)\n",
    "    for node, community in partition.items():\n",
    "        community_to_nodes[community].append(node)\n",
    "    \n",
    "    new_partition = {}\n",
    "    for community, nodes in community_to_nodes.items():\n",
    "        new_community_id = min(nodes)\n",
    "        for node in nodes:\n",
    "            new_partition[node] = new_community_id\n",
    "    \n",
    "    return new_partition\n",
    "\n",
    "def louvain_phase_one(graph):\n",
    "    partition = initialize_partition(graph)\n",
    "    m = sum(len(neighbors) for neighbors in graph.values()) / 2\n",
    "    improvement = True\n",
    "    \n",
    "    while improvement:\n",
    "        improvement = False\n",
    "        for node in tqdm(graph):\n",
    "            best_community = find_best_community(node, graph, partition, m)\n",
    "            if best_community != partition[node]:\n",
    "                old_partition = partition.copy()\n",
    "                partition[node] = best_community\n",
    "                if calculate_modularity(graph, partition) > calculate_modularity(graph, old_partition):\n",
    "                    improvement = True\n",
    "                else:\n",
    "                    partition = old_partition\n",
    "    \n",
    "    return assign_smallest_node_id(partition)\n",
    "\n",
    "def coalesce_graph(graph, partition):\n",
    "    new_graph = defaultdict(lambda: defaultdict(int))\n",
    "    node_to_community = defaultdict(list)\n",
    "    \n",
    "    for node, community in partition.items():\n",
    "        node_to_community[community].append(node)\n",
    "    \n",
    "    for node, neighbors in graph.items():\n",
    "        comm_i = partition[node]\n",
    "        for neighbor in neighbors:\n",
    "            comm_j = partition[neighbor]\n",
    "            new_graph[comm_i][comm_j] += 1\n",
    "    \n",
    "    return dict(new_graph), node_to_community\n",
    "\n",
    "def run_louvain_iteration(graph):\n",
    "    with tqdm(total=4, desc=\"Louvain Algorithm Progress\") as pbar:\n",
    "        pbar.set_description(\"First Phase\")\n",
    "        partition = louvain_phase_one(graph)\n",
    "        pbar.update(1)\n",
    "\n",
    "        pbar.set_description(\"Coalescing Graph\")\n",
    "        coalesced_graph, node_mapping = coalesce_graph(graph, partition)\n",
    "        pbar.update(1)\n",
    "\n",
    "        pbar.set_description(\"Second Phase\")\n",
    "        coalesced_partition = louvain_phase_one(coalesced_graph)\n",
    "        pbar.update(1)\n",
    "\n",
    "        pbar.set_description(\"Finalizing Partition\")\n",
    "        final_partition = {}\n",
    "        for coalesced_node, new_community in coalesced_partition.items():\n",
    "            for original_node in node_mapping[coalesced_node]:\n",
    "                final_partition[original_node] = new_community\n",
    "        \n",
    "        n = len(graph)\n",
    "        graph_partition = np.zeros(n, dtype=int)\n",
    "        for node, community in final_partition.items():\n",
    "            graph_partition[node] = community\n",
    "        pbar.update(1)\n",
    "\n",
    "    return graph_partition\n",
    "\n",
    "# Example usage:\n",
    "if __name__ == \"__main__\":\n",
    "    example_graph = {\n",
    "        0: [1, 2],\n",
    "        1: [0, 2, 3, 4],\n",
    "        2: [0, 1, 3, 4],\n",
    "        3: [1, 2, 4],\n",
    "        4: [1, 2, 3, 5, 6],\n",
    "        5: [4, 6],\n",
    "        6: [4, 5, 7, 8, 9],\n",
    "        7: [6, 8, 9],\n",
    "        8: [6, 7, 9, 10],\n",
    "        9: [6, 7, 8, 10],\n",
    "        10: [8, 9]\n",
    "    }\n",
    "\n",
    "    result = run_louvain_iteration(example_graph)\n",
    "    print(\"Resulting graph partition:\", result)"
   ]
  },
  {
   "cell_type": "code",
   "execution_count": 53,
   "metadata": {},
   "outputs": [],
   "source": [
    "import matplotlib.pyplot as plt\n",
    "from scipy.cluster.hierarchy import dendrogram, linkage\n",
    "\n",
    "def visualise_dendogram(community_mat):\n",
    "    Z = linkage(community_mat, method='single', metric='hamming')\n",
    "    \n",
    "    plt.figure(figsize=(10, 7))\n",
    "    dendrogram(Z, labels=np.arange(community_mat.shape[0]))\n",
    "    \n",
    "    plt.title(\"Dendrogram of Louvain Communities\")\n",
    "    plt.xlabel(\"Node ID\")\n",
    "    plt.ylabel(\"Distance\")\n",
    "    plt.savefig(\"dendrogram.png\")\n",
    "    plt.show()"
   ]
  },
  {
   "cell_type": "code",
   "execution_count": 29,
   "metadata": {},
   "outputs": [
    {
     "data": {
      "text/plain": [
       "([(30, 1412), (30, 3352), (30, 5254), (30, 5543), (30, 7478)], 103689)"
      ]
     },
     "execution_count": 29,
     "metadata": {},
     "output_type": "execute_result"
    }
   ],
   "source": [
    "path = './data/wiki-Vote.txt.gz'\n",
    "import gzip\n",
    "edges = []\n",
    "with gzip.open(path, 'rt', encoding='utf-8') as file:\n",
    "    for line in file:\n",
    "        if line.startswith('#'):\n",
    "            continue\n",
    "        node1, node2 = map(int, line.strip().split())\n",
    "        edges.append((node1, node2))  \n",
    "edges[:5], len(edges) "
   ]
  },
  {
   "cell_type": "code",
   "execution_count": 30,
   "metadata": {},
   "outputs": [],
   "source": [
    "def map_node_ids(graph):\n",
    "    unique_ids = sorted(graph.keys())\n",
    "    id_mapping = {old_id: new_id for new_id, old_id in enumerate(unique_ids)}\n",
    "    new_graph = {}\n",
    "    for old_id, neighbors in graph.items():\n",
    "        new_id = id_mapping[old_id]\n",
    "        new_graph[new_id] = [id_mapping[neighbor] for neighbor in neighbors]\n",
    "    \n",
    "    return new_graph, id_mapping\n",
    "\n",
    "def revert_node_ids(new_graph, original_id_mapping):\n",
    "    \n",
    "    reverse_mapping = {new_id: old_id for old_id, new_id in original_id_mapping.items()}\n",
    "    original_graph = {}\n",
    "    \n",
    "    for new_id, neighbors in new_graph.items():\n",
    "        old_id = reverse_mapping[new_id]\n",
    "        original_graph[old_id] = [reverse_mapping[neighbor] for neighbor in neighbors]\n",
    "    \n",
    "    return original_graph"
   ]
  },
  {
   "cell_type": "code",
   "execution_count": 31,
   "metadata": {},
   "outputs": [
    {
     "data": {
      "text/plain": [
       "7115"
      ]
     },
     "execution_count": 31,
     "metadata": {},
     "output_type": "execute_result"
    }
   ],
   "source": [
    "uniq_nodes = set()\n",
    "for a,b in edges:\n",
    "    uniq_nodes.add(a)\n",
    "    uniq_nodes.add(b)\n",
    "graph = {node: [] for node in uniq_nodes}\n",
    "for a, b in edges:\n",
    "    graph[a].append(b)\n",
    "    graph[b].append(a)\n",
    "\n",
    "len(graph)"
   ]
  },
  {
   "cell_type": "code",
   "execution_count": 32,
   "metadata": {},
   "outputs": [],
   "source": [
    "new_g, id_map = map_node_ids(graph)"
   ]
  },
  {
   "cell_type": "code",
   "execution_count": 48,
   "metadata": {},
   "outputs": [
    {
     "name": "stderr",
     "output_type": "stream",
     "text": [
      "100%|██████████| 7115/7115 [03:35<00:00, 32.97it/s]              \n",
      "100%|██████████| 7115/7115 [03:37<00:00, 32.65it/s]\n",
      "100%|██████████| 7115/7115 [01:51<00:00, 63.85it/s]\n",
      "100%|██████████| 7115/7115 [01:23<00:00, 84.93it/s]\n",
      "100%|██████████| 7115/7115 [00:58<00:00, 121.55it/s]\n",
      "100%|██████████| 7115/7115 [00:55<00:00, 128.73it/s] \n",
      "100%|██████████| 7115/7115 [00:55<00:00, 127.31it/s] \n",
      "100%|██████████| 7115/7115 [00:55<00:00, 128.90it/s] \n",
      "100%|██████████| 41/41 [00:00<00:00, 82477.92it/s]53.81s/it]    \n",
      "100%|██████████| 41/41 [00:00<00:00, 406540.10it/s]\n",
      "Finalizing Partition: 100%|██████████| 4/4 [14:13<00:00, 213.46s/it]\n"
     ]
    }
   ],
   "source": [
    "res = run_louvain_iteration(new_g)"
   ]
  },
  {
   "cell_type": "code",
   "execution_count": 54,
   "metadata": {},
   "outputs": [
    {
     "data": {
      "text/plain": [
       "array([ 0,  0,  0, ..., 12, 12, 12])"
      ]
     },
     "execution_count": 54,
     "metadata": {},
     "output_type": "execute_result"
    }
   ],
   "source": [
    "res"
   ]
  },
  {
   "cell_type": "code",
   "execution_count": 55,
   "metadata": {},
   "outputs": [
    {
     "data": {
      "text/plain": [
       "array([   0,   12,   50, 2115, 2921, 2970, 3760, 4076, 4805, 5033, 5103,\n",
       "       5271, 5298, 5375, 5384, 5509, 5516, 6132, 6268, 6272, 6472, 6497,\n",
       "       6857, 6865, 6888, 6935])"
      ]
     },
     "execution_count": 55,
     "metadata": {},
     "output_type": "execute_result"
    }
   ],
   "source": [
    "np.unique(res)"
   ]
  },
  {
   "cell_type": "code",
   "execution_count": null,
   "metadata": {},
   "outputs": [],
   "source": []
  }
 ],
 "metadata": {
  "kernelspec": {
   "display_name": "DataAnalytics",
   "language": "python",
   "name": "python3"
  },
  "language_info": {
   "codemirror_mode": {
    "name": "ipython",
    "version": 3
   },
   "file_extension": ".py",
   "mimetype": "text/x-python",
   "name": "python",
   "nbconvert_exporter": "python",
   "pygments_lexer": "ipython3",
   "version": "3.9.7"
  }
 },
 "nbformat": 4,
 "nbformat_minor": 2
}
