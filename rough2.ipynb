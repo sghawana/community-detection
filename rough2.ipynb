{
 "cells": [
  {
   "cell_type": "markdown",
   "metadata": {},
   "source": []
  },
  {
   "cell_type": "code",
   "execution_count": 1,
   "metadata": {},
   "outputs": [],
   "source": [
    "def map_node_ids(graph):\n",
    "    unique_ids = sorted(graph.keys())\n",
    "    id_mapping = {old_id: new_id for new_id, old_id in enumerate(unique_ids)}\n",
    "    new_graph = {}\n",
    "    for old_id, neighbors in graph.items():\n",
    "        new_id = id_mapping[old_id]\n",
    "        new_graph[new_id] = [id_mapping[neighbor] for neighbor in neighbors]\n",
    "    \n",
    "    return new_graph, id_mapping\n",
    "\n",
    "def revert_node_ids(new_graph, original_id_mapping):\n",
    "    \n",
    "    reverse_mapping = {new_id: old_id for old_id, new_id in original_id_mapping.items()}\n",
    "    original_graph = {}\n",
    "    \n",
    "    for new_id, neighbors in new_graph.items():\n",
    "        old_id = reverse_mapping[new_id]\n",
    "        original_graph[old_id] = [reverse_mapping[neighbor] for neighbor in neighbors]\n",
    "    \n",
    "    return original_graph"
   ]
  }
 ],
 "metadata": {
  "kernelspec": {
   "display_name": "DataAnalytics",
   "language": "python",
   "name": "python3"
  },
  "language_info": {
   "codemirror_mode": {
    "name": "ipython",
    "version": 3
   },
   "file_extension": ".py",
   "mimetype": "text/x-python",
   "name": "python",
   "nbconvert_exporter": "python",
   "pygments_lexer": "ipython3",
   "version": "3.9.7"
  }
 },
 "nbformat": 4,
 "nbformat_minor": 2
}
